{
 "cells": [
  {
   "cell_type": "code",
   "execution_count": 1,
   "metadata": {},
   "outputs": [],
   "source": [
    "import logging\n",
    "from components.folder_to_targz import *\n",
    "from components.image_combining import *\n",
    "from components.random_split import split_dataset"
   ]
  },
  {
   "cell_type": "code",
   "execution_count": 5,
   "metadata": {},
   "outputs": [],
   "source": [
    "TRAIN_NUMBER = \"01\" # enter train number here"
   ]
  },
  {
   "cell_type": "code",
   "execution_count": 6,
   "metadata": {},
   "outputs": [
    {
     "name": "stdout",
     "output_type": "stream",
     "text": [
      "Total images: 10000\n",
      "Training images: 8000\n",
      "Test images: 2000\n"
     ]
    }
   ],
   "source": [
    "logging.info(\"Combining images for train number: %s\", TRAIN_NUMBER)\n",
    "combine_image(TRAIN_NUMBER)\n",
    "\n",
    "logging.info(\"Splitting dataset\")\n",
    "split_dataset(source_dir=f\"train{TRAIN_NUMBER}/dataset/combined_images\",\n",
    "                dest_dir=f\"train{TRAIN_NUMBER}/dataset/train_test\",\n",
    "                  train_ratio=0.8, seed=42)\n",
    "\n",
    "logging.info(\"Creating tar file of the dataset\")\n",
    "make_tarfile(output_filename=f\"train{TRAIN_NUMBER}/dataset/archive.tar.gz\",\n",
    "source_dir=f\"train{TRAIN_NUMBER}/dataset/train_test\")"
   ]
  }
 ],
 "metadata": {
  "kernelspec": {
   "display_name": "base",
   "language": "python",
   "name": "python3"
  },
  "language_info": {
   "codemirror_mode": {
    "name": "ipython",
    "version": 3
   },
   "file_extension": ".py",
   "mimetype": "text/x-python",
   "name": "python",
   "nbconvert_exporter": "python",
   "pygments_lexer": "ipython3",
   "version": "3.10.14"
  }
 },
 "nbformat": 4,
 "nbformat_minor": 2
}
