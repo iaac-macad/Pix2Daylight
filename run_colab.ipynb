{
  "nbformat": 4,
  "nbformat_minor": 0,
  "metadata": {
    "colab": {
      "provenance": [],
      "gpuType": "L4",
      "machine_shape": "hm"
    },
    "kernelspec": {
      "name": "python3",
      "display_name": "Python 3"
    },
    "language_info": {
      "name": "python"
    },
    "accelerator": "GPU"
  },
  "cells": [
    {
      "cell_type": "code",
      "source": [
        "from google.colab import drive\n",
        "drive.mount('/content/drive')"
      ],
      "metadata": {
        "colab": {
          "base_uri": "https://localhost:8080/"
        },
        "id": "TBYUyMfuT2f5",
        "outputId": "4b19842f-3836-4680-fe55-5b616093f2ec"
      },
      "execution_count": null,
      "outputs": [
        {
          "output_type": "stream",
          "name": "stdout",
          "text": [
            "Mounted at /content/drive\n"
          ]
        }
      ]
    },
    {
      "cell_type": "code",
      "execution_count": null,
      "metadata": {
        "colab": {
          "base_uri": "https://localhost:8080/"
        },
        "collapsed": true,
        "id": "Lp5hqDiRnzGy",
        "outputId": "4823099b-cb05-4d35-b6cd-4cbb2b11b7f6"
      },
      "outputs": [
        {
          "output_type": "stream",
          "name": "stdout",
          "text": [
            "Requirement already satisfied: pathlib in /usr/local/lib/python3.10/dist-packages (from -r /content/drive/MyDrive/aia24_g03_pix2pix/requirements.txt (line 1)) (1.0.1)\n",
            "Requirement already satisfied: matplotlib in /usr/local/lib/python3.10/dist-packages (from -r /content/drive/MyDrive/aia24_g03_pix2pix/requirements.txt (line 2)) (3.7.1)\n",
            "Requirement already satisfied: pillow in /usr/local/lib/python3.10/dist-packages (from -r /content/drive/MyDrive/aia24_g03_pix2pix/requirements.txt (line 3)) (9.4.0)\n",
            "Requirement already satisfied: natsort in /usr/local/lib/python3.10/dist-packages (from -r /content/drive/MyDrive/aia24_g03_pix2pix/requirements.txt (line 4)) (8.4.0)\n",
            "Requirement already satisfied: tqdm in /usr/local/lib/python3.10/dist-packages (from -r /content/drive/MyDrive/aia24_g03_pix2pix/requirements.txt (line 5)) (4.66.4)\n",
            "Requirement already satisfied: scikit-image in /usr/local/lib/python3.10/dist-packages (from -r /content/drive/MyDrive/aia24_g03_pix2pix/requirements.txt (line 6)) (0.19.3)\n",
            "Requirement already satisfied: scikit-learn in /usr/local/lib/python3.10/dist-packages (from -r /content/drive/MyDrive/aia24_g03_pix2pix/requirements.txt (line 7)) (1.2.2)\n",
            "Requirement already satisfied: tensorboard in /usr/local/lib/python3.10/dist-packages (from -r /content/drive/MyDrive/aia24_g03_pix2pix/requirements.txt (line 8)) (2.15.2)\n",
            "Requirement already satisfied: tensorflow in /usr/local/lib/python3.10/dist-packages (from -r /content/drive/MyDrive/aia24_g03_pix2pix/requirements.txt (line 9)) (2.15.0)\n",
            "Requirement already satisfied: contourpy>=1.0.1 in /usr/local/lib/python3.10/dist-packages (from matplotlib->-r /content/drive/MyDrive/aia24_g03_pix2pix/requirements.txt (line 2)) (1.2.1)\n",
            "Requirement already satisfied: cycler>=0.10 in /usr/local/lib/python3.10/dist-packages (from matplotlib->-r /content/drive/MyDrive/aia24_g03_pix2pix/requirements.txt (line 2)) (0.12.1)\n",
            "Requirement already satisfied: fonttools>=4.22.0 in /usr/local/lib/python3.10/dist-packages (from matplotlib->-r /content/drive/MyDrive/aia24_g03_pix2pix/requirements.txt (line 2)) (4.53.0)\n",
            "Requirement already satisfied: kiwisolver>=1.0.1 in /usr/local/lib/python3.10/dist-packages (from matplotlib->-r /content/drive/MyDrive/aia24_g03_pix2pix/requirements.txt (line 2)) (1.4.5)\n",
            "Requirement already satisfied: numpy>=1.20 in /usr/local/lib/python3.10/dist-packages (from matplotlib->-r /content/drive/MyDrive/aia24_g03_pix2pix/requirements.txt (line 2)) (1.25.2)\n",
            "Requirement already satisfied: packaging>=20.0 in /usr/local/lib/python3.10/dist-packages (from matplotlib->-r /content/drive/MyDrive/aia24_g03_pix2pix/requirements.txt (line 2)) (24.1)\n",
            "Requirement already satisfied: pyparsing>=2.3.1 in /usr/local/lib/python3.10/dist-packages (from matplotlib->-r /content/drive/MyDrive/aia24_g03_pix2pix/requirements.txt (line 2)) (3.1.2)\n",
            "Requirement already satisfied: python-dateutil>=2.7 in /usr/local/lib/python3.10/dist-packages (from matplotlib->-r /content/drive/MyDrive/aia24_g03_pix2pix/requirements.txt (line 2)) (2.8.2)\n",
            "Requirement already satisfied: scipy>=1.4.1 in /usr/local/lib/python3.10/dist-packages (from scikit-image->-r /content/drive/MyDrive/aia24_g03_pix2pix/requirements.txt (line 6)) (1.11.4)\n",
            "Requirement already satisfied: networkx>=2.2 in /usr/local/lib/python3.10/dist-packages (from scikit-image->-r /content/drive/MyDrive/aia24_g03_pix2pix/requirements.txt (line 6)) (3.3)\n",
            "Requirement already satisfied: imageio>=2.4.1 in /usr/local/lib/python3.10/dist-packages (from scikit-image->-r /content/drive/MyDrive/aia24_g03_pix2pix/requirements.txt (line 6)) (2.31.6)\n",
            "Requirement already satisfied: tifffile>=2019.7.26 in /usr/local/lib/python3.10/dist-packages (from scikit-image->-r /content/drive/MyDrive/aia24_g03_pix2pix/requirements.txt (line 6)) (2024.5.22)\n",
            "Requirement already satisfied: PyWavelets>=1.1.1 in /usr/local/lib/python3.10/dist-packages (from scikit-image->-r /content/drive/MyDrive/aia24_g03_pix2pix/requirements.txt (line 6)) (1.6.0)\n",
            "Requirement already satisfied: joblib>=1.1.1 in /usr/local/lib/python3.10/dist-packages (from scikit-learn->-r /content/drive/MyDrive/aia24_g03_pix2pix/requirements.txt (line 7)) (1.4.2)\n",
            "Requirement already satisfied: threadpoolctl>=2.0.0 in /usr/local/lib/python3.10/dist-packages (from scikit-learn->-r /content/drive/MyDrive/aia24_g03_pix2pix/requirements.txt (line 7)) (3.5.0)\n",
            "Requirement already satisfied: absl-py>=0.4 in /usr/local/lib/python3.10/dist-packages (from tensorboard->-r /content/drive/MyDrive/aia24_g03_pix2pix/requirements.txt (line 8)) (1.4.0)\n",
            "Requirement already satisfied: grpcio>=1.48.2 in /usr/local/lib/python3.10/dist-packages (from tensorboard->-r /content/drive/MyDrive/aia24_g03_pix2pix/requirements.txt (line 8)) (1.64.1)\n",
            "Requirement already satisfied: google-auth<3,>=1.6.3 in /usr/local/lib/python3.10/dist-packages (from tensorboard->-r /content/drive/MyDrive/aia24_g03_pix2pix/requirements.txt (line 8)) (2.27.0)\n",
            "Requirement already satisfied: google-auth-oauthlib<2,>=0.5 in /usr/local/lib/python3.10/dist-packages (from tensorboard->-r /content/drive/MyDrive/aia24_g03_pix2pix/requirements.txt (line 8)) (1.2.0)\n",
            "Requirement already satisfied: markdown>=2.6.8 in /usr/local/lib/python3.10/dist-packages (from tensorboard->-r /content/drive/MyDrive/aia24_g03_pix2pix/requirements.txt (line 8)) (3.6)\n",
            "Requirement already satisfied: protobuf!=4.24.0,>=3.19.6 in /usr/local/lib/python3.10/dist-packages (from tensorboard->-r /content/drive/MyDrive/aia24_g03_pix2pix/requirements.txt (line 8)) (3.20.3)\n",
            "Requirement already satisfied: requests<3,>=2.21.0 in /usr/local/lib/python3.10/dist-packages (from tensorboard->-r /content/drive/MyDrive/aia24_g03_pix2pix/requirements.txt (line 8)) (2.31.0)\n",
            "Requirement already satisfied: setuptools>=41.0.0 in /usr/local/lib/python3.10/dist-packages (from tensorboard->-r /content/drive/MyDrive/aia24_g03_pix2pix/requirements.txt (line 8)) (67.7.2)\n",
            "Requirement already satisfied: six>1.9 in /usr/local/lib/python3.10/dist-packages (from tensorboard->-r /content/drive/MyDrive/aia24_g03_pix2pix/requirements.txt (line 8)) (1.16.0)\n",
            "Requirement already satisfied: tensorboard-data-server<0.8.0,>=0.7.0 in /usr/local/lib/python3.10/dist-packages (from tensorboard->-r /content/drive/MyDrive/aia24_g03_pix2pix/requirements.txt (line 8)) (0.7.2)\n",
            "Requirement already satisfied: werkzeug>=1.0.1 in /usr/local/lib/python3.10/dist-packages (from tensorboard->-r /content/drive/MyDrive/aia24_g03_pix2pix/requirements.txt (line 8)) (3.0.3)\n",
            "Requirement already satisfied: astunparse>=1.6.0 in /usr/local/lib/python3.10/dist-packages (from tensorflow->-r /content/drive/MyDrive/aia24_g03_pix2pix/requirements.txt (line 9)) (1.6.3)\n",
            "Requirement already satisfied: flatbuffers>=23.5.26 in /usr/local/lib/python3.10/dist-packages (from tensorflow->-r /content/drive/MyDrive/aia24_g03_pix2pix/requirements.txt (line 9)) (24.3.25)\n",
            "Requirement already satisfied: gast!=0.5.0,!=0.5.1,!=0.5.2,>=0.2.1 in /usr/local/lib/python3.10/dist-packages (from tensorflow->-r /content/drive/MyDrive/aia24_g03_pix2pix/requirements.txt (line 9)) (0.5.4)\n",
            "Requirement already satisfied: google-pasta>=0.1.1 in /usr/local/lib/python3.10/dist-packages (from tensorflow->-r /content/drive/MyDrive/aia24_g03_pix2pix/requirements.txt (line 9)) (0.2.0)\n",
            "Requirement already satisfied: h5py>=2.9.0 in /usr/local/lib/python3.10/dist-packages (from tensorflow->-r /content/drive/MyDrive/aia24_g03_pix2pix/requirements.txt (line 9)) (3.9.0)\n",
            "Requirement already satisfied: libclang>=13.0.0 in /usr/local/lib/python3.10/dist-packages (from tensorflow->-r /content/drive/MyDrive/aia24_g03_pix2pix/requirements.txt (line 9)) (18.1.1)\n",
            "Requirement already satisfied: ml-dtypes~=0.2.0 in /usr/local/lib/python3.10/dist-packages (from tensorflow->-r /content/drive/MyDrive/aia24_g03_pix2pix/requirements.txt (line 9)) (0.2.0)\n",
            "Requirement already satisfied: opt-einsum>=2.3.2 in /usr/local/lib/python3.10/dist-packages (from tensorflow->-r /content/drive/MyDrive/aia24_g03_pix2pix/requirements.txt (line 9)) (3.3.0)\n",
            "Requirement already satisfied: termcolor>=1.1.0 in /usr/local/lib/python3.10/dist-packages (from tensorflow->-r /content/drive/MyDrive/aia24_g03_pix2pix/requirements.txt (line 9)) (2.4.0)\n",
            "Requirement already satisfied: typing-extensions>=3.6.6 in /usr/local/lib/python3.10/dist-packages (from tensorflow->-r /content/drive/MyDrive/aia24_g03_pix2pix/requirements.txt (line 9)) (4.12.2)\n",
            "Requirement already satisfied: wrapt<1.15,>=1.11.0 in /usr/local/lib/python3.10/dist-packages (from tensorflow->-r /content/drive/MyDrive/aia24_g03_pix2pix/requirements.txt (line 9)) (1.14.1)\n",
            "Requirement already satisfied: tensorflow-io-gcs-filesystem>=0.23.1 in /usr/local/lib/python3.10/dist-packages (from tensorflow->-r /content/drive/MyDrive/aia24_g03_pix2pix/requirements.txt (line 9)) (0.37.0)\n",
            "Requirement already satisfied: tensorflow-estimator<2.16,>=2.15.0 in /usr/local/lib/python3.10/dist-packages (from tensorflow->-r /content/drive/MyDrive/aia24_g03_pix2pix/requirements.txt (line 9)) (2.15.0)\n",
            "Requirement already satisfied: keras<2.16,>=2.15.0 in /usr/local/lib/python3.10/dist-packages (from tensorflow->-r /content/drive/MyDrive/aia24_g03_pix2pix/requirements.txt (line 9)) (2.15.0)\n",
            "Requirement already satisfied: wheel<1.0,>=0.23.0 in /usr/local/lib/python3.10/dist-packages (from astunparse>=1.6.0->tensorflow->-r /content/drive/MyDrive/aia24_g03_pix2pix/requirements.txt (line 9)) (0.43.0)\n",
            "Requirement already satisfied: cachetools<6.0,>=2.0.0 in /usr/local/lib/python3.10/dist-packages (from google-auth<3,>=1.6.3->tensorboard->-r /content/drive/MyDrive/aia24_g03_pix2pix/requirements.txt (line 8)) (5.3.3)\n",
            "Requirement already satisfied: pyasn1-modules>=0.2.1 in /usr/local/lib/python3.10/dist-packages (from google-auth<3,>=1.6.3->tensorboard->-r /content/drive/MyDrive/aia24_g03_pix2pix/requirements.txt (line 8)) (0.4.0)\n",
            "Requirement already satisfied: rsa<5,>=3.1.4 in /usr/local/lib/python3.10/dist-packages (from google-auth<3,>=1.6.3->tensorboard->-r /content/drive/MyDrive/aia24_g03_pix2pix/requirements.txt (line 8)) (4.9)\n",
            "Requirement already satisfied: requests-oauthlib>=0.7.0 in /usr/local/lib/python3.10/dist-packages (from google-auth-oauthlib<2,>=0.5->tensorboard->-r /content/drive/MyDrive/aia24_g03_pix2pix/requirements.txt (line 8)) (1.3.1)\n",
            "Requirement already satisfied: charset-normalizer<4,>=2 in /usr/local/lib/python3.10/dist-packages (from requests<3,>=2.21.0->tensorboard->-r /content/drive/MyDrive/aia24_g03_pix2pix/requirements.txt (line 8)) (3.3.2)\n",
            "Requirement already satisfied: idna<4,>=2.5 in /usr/local/lib/python3.10/dist-packages (from requests<3,>=2.21.0->tensorboard->-r /content/drive/MyDrive/aia24_g03_pix2pix/requirements.txt (line 8)) (3.7)\n",
            "Requirement already satisfied: urllib3<3,>=1.21.1 in /usr/local/lib/python3.10/dist-packages (from requests<3,>=2.21.0->tensorboard->-r /content/drive/MyDrive/aia24_g03_pix2pix/requirements.txt (line 8)) (2.0.7)\n",
            "Requirement already satisfied: certifi>=2017.4.17 in /usr/local/lib/python3.10/dist-packages (from requests<3,>=2.21.0->tensorboard->-r /content/drive/MyDrive/aia24_g03_pix2pix/requirements.txt (line 8)) (2024.6.2)\n",
            "Requirement already satisfied: MarkupSafe>=2.1.1 in /usr/local/lib/python3.10/dist-packages (from werkzeug>=1.0.1->tensorboard->-r /content/drive/MyDrive/aia24_g03_pix2pix/requirements.txt (line 8)) (2.1.5)\n",
            "Requirement already satisfied: pyasn1<0.7.0,>=0.4.6 in /usr/local/lib/python3.10/dist-packages (from pyasn1-modules>=0.2.1->google-auth<3,>=1.6.3->tensorboard->-r /content/drive/MyDrive/aia24_g03_pix2pix/requirements.txt (line 8)) (0.6.0)\n",
            "Requirement already satisfied: oauthlib>=3.0.0 in /usr/local/lib/python3.10/dist-packages (from requests-oauthlib>=0.7.0->google-auth-oauthlib<2,>=0.5->tensorboard->-r /content/drive/MyDrive/aia24_g03_pix2pix/requirements.txt (line 8)) (3.2.2)\n"
          ]
        }
      ],
      "source": [
        "!pip install -r \"/content/drive/MyDrive/yourfolder/requirements.txt\""
      ]
    },
    {
      "cell_type": "code",
      "source": [
        "import os\n",
        "os.chdir(\"//content/drive/MyDrive/yourfolder\")"
      ],
      "metadata": {
        "id": "IEPD0_bdoaW9"
      },
      "execution_count": null,
      "outputs": []
    },
    {
      "cell_type": "code",
      "source": [
        "!python train_save_test_model.py"
      ],
      "metadata": {
        "colab": {
          "base_uri": "https://localhost:8080/"
        },
        "id": "H0Tw_MX3oipt",
        "outputId": "95d96f1a-6266-42a6-a384-b3d45447d01a"
      },
      "execution_count": null,
      "outputs": [
        {
          "output_type": "stream",
          "name": "stdout",
          "text": [
            "2024-06-22 10:26:08.000558: E external/local_xla/xla/stream_executor/cuda/cuda_dnn.cc:9261] Unable to register cuDNN factory: Attempting to register factory for plugin cuDNN when one has already been registered\n",
            "2024-06-22 10:26:08.000610: E external/local_xla/xla/stream_executor/cuda/cuda_fft.cc:607] Unable to register cuFFT factory: Attempting to register factory for plugin cuFFT when one has already been registered\n",
            "2024-06-22 10:26:08.002569: E external/local_xla/xla/stream_executor/cuda/cuda_blas.cc:1515] Unable to register cuBLAS factory: Attempting to register factory for plugin cuBLAS when one has already been registered\n",
            "2024-06-22 10:26:09.046697: W tensorflow/compiler/tf2tensorrt/utils/py_utils.cc:38] TF-TRT Warning: Could not find TensorRT\n",
            "2024-06-22 10:26:22,247 - INFO - Checking GPU availability\n",
            "Num GPUs Available:  1\n",
            "2024-06-22 10:26:22,895 - INFO - Extracting tar.gz file\n",
            "2024-06-22 12:59:59,289 - INFO - Applying random jitter to images\n",
            "2024-06-22 12:59:59,289 - INFO - Creating training dataset pipeline\n",
            "2024-06-22 13:00:02,880 - INFO - Creating generator model\n",
            "2024-06-22 13:00:03,548 - INFO - Creating discriminator model\n",
            "2024-06-22 13:00:03,676 - INFO - Setting up optimizers\n",
            "2024-06-22 13:00:03,682 - INFO - Starting training process\n",
            "Epoch 0, Step 0:   0% 0/809 [00:38<?, ?batch/s]2024-06-22 13:00:44.457723: E tensorflow/core/grappler/optimizers/meta_optimizer.cc:961] layout failed: INVALID_ARGUMENT: Size of values 0 does not match size of permutation 4 @ fanin shape inmodel/sequential_8/dropout/dropout/SelectV2-2-TransposeNHWCToNCHW-LayoutOptimizer\n",
            "WARNING: All log messages before absl::InitializeLog() is called are written to STDERR\n",
            "I0000 00:00:1719061257.808668    2075 device_compiler.h:186] Compiled cluster using XLA!  This line is logged at most once for the lifetime of the process.\n",
            "WARNING:tensorflow:5 out of the last 5 calls to <function _BaseOptimizer._update_step_xla at 0x7f7e67bf8310> triggered tf.function retracing. Tracing is expensive and the excessive number of tracings could be due to (1) creating @tf.function repeatedly in a loop, (2) passing tensors with different shapes, (3) passing Python objects instead of tensors. For (1), please define your @tf.function outside of the loop. For (2), @tf.function has reduce_retracing=True option that can avoid unnecessary retracing. For (3), please refer to https://www.tensorflow.org/guide/function#controlling_retracing and https://www.tensorflow.org/api_docs/python/tf/function for  more details.\n",
            "2024-06-22 13:00:58,349 - WARNING - 5 out of the last 5 calls to <function _BaseOptimizer._update_step_xla at 0x7f7e67bf8310> triggered tf.function retracing. Tracing is expensive and the excessive number of tracings could be due to (1) creating @tf.function repeatedly in a loop, (2) passing tensors with different shapes, (3) passing Python objects instead of tensors. For (1), please define your @tf.function outside of the loop. For (2), @tf.function has reduce_retracing=True option that can avoid unnecessary retracing. For (3), please refer to https://www.tensorflow.org/guide/function#controlling_retracing and https://www.tensorflow.org/api_docs/python/tf/function for  more details.\n",
            "WARNING:tensorflow:6 out of the last 6 calls to <function _BaseOptimizer._update_step_xla at 0x7f7e67bf8310> triggered tf.function retracing. Tracing is expensive and the excessive number of tracings could be due to (1) creating @tf.function repeatedly in a loop, (2) passing tensors with different shapes, (3) passing Python objects instead of tensors. For (1), please define your @tf.function outside of the loop. For (2), @tf.function has reduce_retracing=True option that can avoid unnecessary retracing. For (3), please refer to https://www.tensorflow.org/guide/function#controlling_retracing and https://www.tensorflow.org/api_docs/python/tf/function for  more details.\n",
            "2024-06-22 13:00:58,489 - WARNING - 6 out of the last 6 calls to <function _BaseOptimizer._update_step_xla at 0x7f7e67bf8310> triggered tf.function retracing. Tracing is expensive and the excessive number of tracings could be due to (1) creating @tf.function repeatedly in a loop, (2) passing tensors with different shapes, (3) passing Python objects instead of tensors. For (1), please define your @tf.function outside of the loop. For (2), @tf.function has reduce_retracing=True option that can avoid unnecessary retracing. For (3), please refer to https://www.tensorflow.org/guide/function#controlling_retracing and https://www.tensorflow.org/api_docs/python/tf/function for  more details.\n",
            "Epoch 0, Step 688:  85% 688/809 [02:44<00:18,  6.57batch/s, gen_total=5.9511, gen_gan=0.98633, gen_l1=0.049648, disc=1.2481]2024-06-22 13:02:49.582836: E tensorflow/core/grappler/optimizers/meta_optimizer.cc:961] layout failed: INVALID_ARGUMENT: Size of values 0 does not match size of permutation 4 @ fanin shape inmodel/sequential_8/dropout/dropout/SelectV2-2-TransposeNHWCToNCHW-LayoutOptimizer\n",
            "Epoch 0, Step 808: 100% 809/809 [03:08<00:00,  4.28batch/s, gen_total=5.345, gen_gan=0.94751, gen_l1=0.043975, disc=1.2665]\n",
            "Epoch 1, Step 808: 100% 809/809 [02:37<00:00,  5.15batch/s, gen_total=1.6886, gen_gan=0.71788, gen_l1=0.0097068, disc=1.3803]\n",
            "Epoch 2, Step 808: 100% 809/809 [02:31<00:00,  5.33batch/s, gen_total=1.4556, gen_gan=0.71469, gen_l1=0.0074096, disc=1.3863]\n",
            "Epoch 3, Step 808: 100% 809/809 [02:37<00:00,  5.14batch/s, gen_total=1.3324, gen_gan=0.70842, gen_l1=0.0062395, disc=1.3867]\n",
            "Epoch 4, Step 808: 100% 809/809 [02:35<00:00,  5.19batch/s, gen_total=1.2744, gen_gan=0.70228, gen_l1=0.0057217, disc=1.3944]\n",
            "2024-06-22 13:13:35,133 - INFO - Training completed\n",
            "2024-06-22 13:13:35,133 - INFO - Model saved to train10/train_10_batch_16_lr_0.0002_epoch_5_beta_0.5_v1_v1_10_26_22/models\n",
            "WARNING:tensorflow:Compiled the loaded model, but the compiled metrics have yet to be built. `model.compile_metrics` will be empty until you train or evaluate the model.\n",
            "2024-06-22 13:13:35,135 - WARNING - Compiled the loaded model, but the compiled metrics have yet to be built. `model.compile_metrics` will be empty until you train or evaluate the model.\n",
            "INFO:tensorflow:Assets written to: train10/train_10_batch_16_lr_0.0002_epoch_5_beta_0.5_v1_v1_10_26_22/models/generator_model/assets\n",
            "2024-06-22 13:13:41,831 - INFO - Assets written to: train10/train_10_batch_16_lr_0.0002_epoch_5_beta_0.5_v1_v1_10_26_22/models/generator_model/assets\n",
            "/usr/local/lib/python3.10/dist-packages/keras/src/initializers/__init__.py:144: UserWarning: The `keras.initializers.serialize()` API should only be used for objects of type `keras.initializers.Initializer`. Found an instance of type <class 'tensorflow.python.ops.init_ops_v2.RandomNormal'>, which may lead to improper serialization.\n",
            "  warnings.warn(\n",
            "Final models saved successfully\n",
            "2024-06-22 13:13:42,071 - INFO - Saving the generator model\n",
            "WARNING:tensorflow:Compiled the loaded model, but the compiled metrics have yet to be built. `model.compile_metrics` will be empty until you train or evaluate the model.\n",
            "2024-06-22 13:13:42,071 - WARNING - Compiled the loaded model, but the compiled metrics have yet to be built. `model.compile_metrics` will be empty until you train or evaluate the model.\n",
            "INFO:tensorflow:Assets written to: train10/train_10_batch_16_lr_0.0002_epoch_5_beta_0.5_v1_v1_10_26_22/models/generator_model/assets\n",
            "2024-06-22 13:13:47,655 - INFO - Assets written to: train10/train_10_batch_16_lr_0.0002_epoch_5_beta_0.5_v1_v1_10_26_22/models/generator_model/assets\n",
            "/usr/local/lib/python3.10/dist-packages/keras/src/initializers/__init__.py:144: UserWarning: The `keras.initializers.serialize()` API should only be used for objects of type `keras.initializers.Initializer`. Found an instance of type <class 'tensorflow.python.ops.init_ops_v2.RandomNormal'>, which may lead to improper serialization.\n",
            "  warnings.warn(\n",
            "2024-06-22 13:13:48,271 - INFO - Parameters saved to train10/train_10_batch_16_lr_0.0002_epoch_5_beta_0.5_v1_v1_10_26_22/parameters.json\n",
            "2024-06-22 13:13:48,271 - INFO - Restoring the latest checkpoint\n",
            "2024-06-22 13:13:48,272 - INFO - loading saved model\n",
            "2024-06-22 13:13:48,272 - INFO - predicting and saving images\n",
            "WARNING:tensorflow:No training configuration found in save file, so the model was *not* compiled. Compile it manually.\n",
            "2024-06-22 13:13:50,967 - WARNING - No training configuration found in save file, so the model was *not* compiled. Compile it manually.\n",
            "2024-06-22 13:21:17,250 - INFO - Metrics saved successfully.\n"
          ]
        }
      ]
    },
    {
      "cell_type": "code",
      "source": [
        "from google.colab import runtime\n",
        "runtime.unassign()"
      ],
      "metadata": {
        "id": "JyprqL3Oo8ml"
      },
      "execution_count": null,
      "outputs": []
    }
  ]
}