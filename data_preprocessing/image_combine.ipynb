{
 "cells": [
  {
   "cell_type": "code",
   "execution_count": null,
   "metadata": {},
   "outputs": [],
   "source": [
    "def combine_image(train_number):\n",
    "    # Path to the folders containing the images\n",
    "    folder_A = f'C:/Users/Administrator/OneDrive/IAAC/04_Thesis/02_Dataset/00_ImageEncoding/EncodingMethod_{train_number}/input'\n",
    "    folder_B = f'C:/Users/Administrator/OneDrive/IAAC/04_Thesis/02_Dataset/00_ImageEncoding/EncodingMethod_{train_number}/groundtruth'\n",
    "\n",
    "    # Path to the folder where you want to save the combined images\n",
    "    output_folder = f'C:/Users/Administrator/OneDrive/IAAC/04_Thesis/02_Dataset/00_ImageEncoding/EncodingMethod_{train_number}/combined'\n",
    "\n",
    "    # Ensure the output directory exists\n",
    "    if not os.path.exists(output_folder):\n",
    "        os.makedirs(output_folder)\n",
    "        \n",
    "    # Get list of images in both folders and sort them\n",
    "    images_A = natsort.natsorted(os.listdir(folder_A))\n",
    "    images_B = natsort.natsorted(os.listdir(folder_B))\n",
    "\n",
    "    # Find common image names\n",
    "    common_images = set(images_A).intersection(images_B)\n",
    "\n",
    "    # Iterate through the common images and combine them\n",
    "    for img_name in common_images:\n",
    "        # Open images\n",
    "        img_A = Image.open(os.path.join(folder_A, img_name)).convert('RGBA')\n",
    "        img_B = Image.open(os.path.join(folder_B, img_name)).convert('RGBA')\n",
    "\n",
    "        # Create a new blank image with dimensions 1024x512\n",
    "        combined_img = Image.new('RGBA', (1024, 512))\n",
    "\n",
    "        # Paste images side by side\n",
    "        combined_img.paste(img_A, (0, 0), img_A)\n",
    "        combined_img.paste(img_B, (512, 0), img_B)\n",
    "\n",
    "        # Save the combined image\n",
    "        combined_img.save(os.path.join(output_folder, img_name))\n"
   ]
  },
  {
   "cell_type": "code",
   "execution_count": null,
   "metadata": {},
   "outputs": [],
   "source": [
    "combine_image(\"1\")"
   ]
  }
 ],
 "metadata": {
  "language_info": {
   "name": "python"
  }
 },
 "nbformat": 4,
 "nbformat_minor": 2
}
