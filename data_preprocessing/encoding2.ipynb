{
 "cells": [
  {
   "cell_type": "code",
   "execution_count": 3,
   "metadata": {},
   "outputs": [],
   "source": [
    "TRAIN_NUMBER = \"01\" # enter train number here"
   ]
  },
  {
   "cell_type": "code",
   "execution_count": 8,
   "metadata": {},
   "outputs": [
    {
     "name": "stdout",
     "output_type": "stream",
     "text": [
      "Images have been processed and saved successfully.\n"
     ]
    }
   ],
   "source": [
    "import shutil\n",
    "import os\n",
    "from PIL import Image\n",
    "\n",
    "# Define the file paths\n",
    "path1 = r\"encoding2/red\"\n",
    "path2 = r\"encoding2/blue\"\n",
    "path3 = r\"encoding2/green\"\n",
    "path4 = r\"encoding2/alpha\"\n",
    "path5 = r\"encoding2/groundtruth\"\n",
    "output_path = f\"../train{TRAIN_NUMBER}/dataset/input\"\n",
    "groundtruth_path = f\"../train{TRAIN_NUMBER}/dataset/groundtruth\"\n",
    "\n",
    "# Ensure the output directory exists\n",
    "os.makedirs(output_path, exist_ok=True)\n",
    "os.makedirs(groundtruth_path, exist_ok=True)\n",
    "\n",
    "# Get the list of files in all directories\n",
    "files1 = sorted(os.listdir(path1))\n",
    "files2 = sorted(os.listdir(path2))\n",
    "files3 = sorted(os.listdir(path3))\n",
    "files4 = sorted(os.listdir(path4))\n",
    "\n",
    "# Convert lists of filenames to sets for easier comparison\n",
    "set_files1 = set(files1)\n",
    "set_files2 = set(files2)\n",
    "set_files3 = set(files3)\n",
    "set_files4 = set(files4)\n",
    "\n",
    "# Find common files between all directories\n",
    "common_files = set_files1.intersection(set_files2, set_files3, set_files4)\n",
    "\n",
    "# Process each set of matching images\n",
    "for file_name in common_files:\n",
    "    # Open images from all directories\n",
    "    image1 = Image.open(os.path.join(path1, file_name)).convert(\"RGBA\")\n",
    "    image2 = Image.open(os.path.join(path2, file_name)).convert(\"RGBA\")\n",
    "    image3 = Image.open(os.path.join(path3, file_name)).convert(\"RGBA\")\n",
    "    image4 = Image.open(os.path.join(path4, file_name)).convert(\"RGBA\")\n",
    "    \n",
    "    # Split the channels of the images\n",
    "    r1, g1, b1, a1 = image1.split()\n",
    "    r2, g2, b2, a2 = image2.split()\n",
    "    r3, g3, b3, a3 = image3.split()\n",
    "    r4, g4, b4, a4 = image4.split()\n",
    "    \n",
    "    # Create the new image by combining channels from all images\n",
    "    new_image = Image.merge(\"RGBA\", (r1, g3, b2, b4))\n",
    "    \n",
    "    # Get the file name without the extension and add \".png\"\n",
    "    base_name, ext = os.path.splitext(file_name)\n",
    "    new_image.save(os.path.join(output_path, f\"{base_name}.png\"))\n",
    "\n",
    "print(\"Images have been processed and saved successfully.\")\n",
    "\n",
    "for file_name in os.listdir(path5):\n",
    "    source_file = os.path.join(path5, file_name)\n",
    "    destination_file = os.path.join(groundtruth_path, file_name)\n",
    "    shutil.move(source_file, destination_file)\n",
    "\n",
    "print(f\"Files have been moved to {groundtruth_path}\")\n"
   ]
  }
 ],
 "metadata": {
  "kernelspec": {
   "display_name": "Python 3",
   "language": "python",
   "name": "python3"
  },
  "language_info": {
   "codemirror_mode": {
    "name": "ipython",
    "version": 3
   },
   "file_extension": ".py",
   "mimetype": "text/x-python",
   "name": "python",
   "nbconvert_exporter": "python",
   "pygments_lexer": "ipython3",
   "version": "3.10.14"
  }
 },
 "nbformat": 4,
 "nbformat_minor": 2
}
