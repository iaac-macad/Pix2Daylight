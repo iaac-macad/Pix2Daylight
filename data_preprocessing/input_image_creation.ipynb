{
 "cells": [
  {
   "cell_type": "code",
   "execution_count": 5,
   "metadata": {},
   "outputs": [
    {
     "name": "stdout",
     "output_type": "stream",
     "text": [
      "Images have been processed and saved successfully.\n"
     ]
    }
   ],
   "source": [
    "import os\n",
    "from PIL import Image\n",
    "\n",
    "# Define the file paths\n",
    "path1 = r\"C:/Users/Administrator/OneDrive/IAAC/04_Thesis/02_Dataset/00_ImageEncoding/prep/RGBA_Option1/red-blue\"\n",
    "path2 = r\"C:/Users/Administrator/OneDrive/IAAC/04_Thesis/02_Dataset/00_ImageEncoding/prep/RGBA_Option1/green-alpha\"\n",
    "output_path = r\"C:/Users/Administrator/OneDrive/IAAC/04_Thesis/DApredictor/train04/dataset/input\"\n",
    "\n",
    "# Ensure the output directory exists\n",
    "os.makedirs(output_path, exist_ok=True)\n",
    "\n",
    "# Get the list of files in both directories\n",
    "files1 = sorted(os.listdir(path1))\n",
    "files2 = sorted(os.listdir(path2))\n",
    "\n",
    "# Check if both directories have the same number of files\n",
    "if len(files1) != len(files2):\n",
    "    raise ValueError(\"The number of files in the two directories does not match.\")\n",
    "\n",
    "# Process each pair of images\n",
    "for file_name in files1:\n",
    "    # Open images from both directories\n",
    "    image1 = Image.open(os.path.join(path1, file_name)).convert(\"RGBA\")\n",
    "    image2 = Image.open(os.path.join(path2, file_name)).convert(\"RGBA\")\n",
    "    \n",
    "    # Split the channels of the images\n",
    "    r1, g1, b1, a1 = image1.split()\n",
    "    r2, g2, b2, a2 = image2.split()\n",
    "    \n",
    "    # # Update the alpha channel in the second image with the blue channel\n",
    "    # updated_image2 = Image.merge(\"RGBA\", (r2, g2, b2, b2))\n",
    "    \n",
    "    # Create the new image by combining channels from both images\n",
    "    new_image = Image.merge(\"RGBA\", (r1, g2, b1, b2))\n",
    "    \n",
    "    # Save the updated image2 and the new image\n",
    "    # updated_image2.save(os.path.join(path2, file_name))\n",
    "    new_image.save(os.path.join(output_path, file_name))\n",
    "\n",
    "print(\"Images have been processed and saved successfully.\")\n"
   ]
  }
 ],
 "metadata": {
  "kernelspec": {
   "display_name": "Python 3",
   "language": "python",
   "name": "python3"
  },
  "language_info": {
   "codemirror_mode": {
    "name": "ipython",
    "version": 3
   },
   "file_extension": ".py",
   "mimetype": "text/x-python",
   "name": "python",
   "nbconvert_exporter": "python",
   "pygments_lexer": "ipython3",
   "version": "3.10.14"
  }
 },
 "nbformat": 4,
 "nbformat_minor": 2
}
