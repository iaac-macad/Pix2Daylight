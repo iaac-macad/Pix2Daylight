{
 "cells": [
  {
   "cell_type": "code",
   "execution_count": 7,
   "metadata": {},
   "outputs": [],
   "source": [
    "TRAIN_NUMBER = \"01\" # enter train number here"
   ]
  },
  {
   "cell_type": "code",
   "execution_count": 8,
   "metadata": {},
   "outputs": [
    {
     "name": "stdout",
     "output_type": "stream",
     "text": [
      "Images have been processed and saved successfully.\n",
      "Files have been moved to ../train01/dataset/groundtruth\n"
     ]
    }
   ],
   "source": [
    "import shutil\n",
    "import os\n",
    "from PIL import Image\n",
    "\n",
    "# Define the file paths\n",
    "path1 = r\"encoding1/red-blue\"\n",
    "path2 = r\"encoding1/green-alpha\"\n",
    "path3 = r\"encoding1/groundtruth\"\n",
    "output_path = f\"../train{TRAIN_NUMBER}/dataset/input\"\n",
    "groundtruth_path = f\"../train{TRAIN_NUMBER}/dataset/groundtruth\"\n",
    "\n",
    "# Ensure the output directory exists\n",
    "os.makedirs(output_path, exist_ok=True)\n",
    "os.makedirs(groundtruth_path, exist_ok=True)\n",
    "\n",
    "# Get the list of files in both directories\n",
    "files1 = sorted(os.listdir(path1))\n",
    "files2 = sorted(os.listdir(path2))\n",
    "\n",
    "# Convert lists of filenames to sets for easier comparison\n",
    "set_files1 = set(files1)\n",
    "set_files2 = set(files2)\n",
    "\n",
    "# Find common files between the two directories\n",
    "common_files = set_files1.intersection(set_files2)\n",
    "\n",
    "# Process each pair of matching images\n",
    "for file_name in common_files:\n",
    "    # Open images from both directories\n",
    "    image1 = Image.open(os.path.join(path1, file_name)).convert(\"RGBA\")\n",
    "    image2 = Image.open(os.path.join(path2, file_name)).convert(\"RGBA\")\n",
    "    \n",
    "    # Split the channels of the images\n",
    "    r1, g1, b1, a1 = image1.split()\n",
    "    r2, g2, b2, a2 = image2.split()\n",
    "    \n",
    "    # Create the new image by combining channels from both images\n",
    "    new_image = Image.merge(\"RGBA\", (r1, g2, b1, b2))\n",
    "    \n",
    "    # Get the file name without the extension and add \".png\"\n",
    "    base_name, ext = os.path.splitext(file_name)\n",
    "    new_image.save(os.path.join(output_path, f\"{base_name}.png\"))\n",
    "\n",
    "print(\"Images have been processed and saved successfully.\")\n",
    "\n",
    "for file_name in os.listdir(path3):\n",
    "    source_file = os.path.join(path3, file_name)\n",
    "    destination_file = os.path.join(groundtruth_path, file_name)\n",
    "    shutil.move(source_file, destination_file)\n",
    "\n",
    "print(f\"Files have been moved to {groundtruth_path}\")"
   ]
  }
 ],
 "metadata": {
  "kernelspec": {
   "display_name": "Python 3",
   "language": "python",
   "name": "python3"
  },
  "language_info": {
   "codemirror_mode": {
    "name": "ipython",
    "version": 3
   },
   "file_extension": ".py",
   "mimetype": "text/x-python",
   "name": "python",
   "nbconvert_exporter": "python",
   "pygments_lexer": "ipython3",
   "version": "3.10.14"
  }
 },
 "nbformat": 4,
 "nbformat_minor": 2
}
